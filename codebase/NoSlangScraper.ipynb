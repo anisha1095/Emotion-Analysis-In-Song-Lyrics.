{
 "cells": [
  {
   "cell_type": "code",
   "execution_count": 8,
   "metadata": {},
   "outputs": [],
   "source": [
    "from bs4 import BeautifulSoup\n",
    "import urllib3\n",
    "import json\n",
    "http=urllib3.PoolManager()\n",
    "Abbr_dict={}\n",
    "#Function to get the Slangs from https://www.noslang.com/dictionary/\n",
    "def getAbbr(alpha):\n",
    "    global Abbr_dict\n",
    "    r=http.request('GET','https://www.noslang.com/dictionary/'+alpha)\n",
    "    soup=BeautifulSoup(r.data,'html.parser')\n",
    "    for i in soup.findAll('div',{'class':'dictonary-word'}): \n",
    "        abbr=i.find('abbr')['title']\n",
    "        Abbr_dict[i.find('span').text[:-2]]=abbr\n",
    "        \n",
    "linkDict=[]\n",
    "#Generating a-z\n",
    "for one in range(97,123):\n",
    "    linkDict.append(chr(one))\n",
    "#Creating Links for https://www.noslang.com/dictionary/a...https://www.noslang.com/dictionary/b....etc\n",
    "for i in linkDict:\n",
    "    getAbbr(i)\n",
    "# finally writing into a json file\n",
    "with open('ShortendText.json','w') as file:\n",
    "    jsonDict=json.dump(Abbr_dict,file)"
   ]
  },
  {
   "cell_type": "code",
   "execution_count": null,
   "metadata": {},
   "outputs": [],
   "source": []
  }
 ],
 "metadata": {
  "kernelspec": {
   "display_name": "Python 3 (ipykernel)",
   "language": "python",
   "name": "python3"
  },
  "language_info": {
   "codemirror_mode": {
    "name": "ipython",
    "version": 3
   },
   "file_extension": ".py",
   "mimetype": "text/x-python",
   "name": "python",
   "nbconvert_exporter": "python",
   "pygments_lexer": "ipython3",
   "version": "3.7.4"
  }
 },
 "nbformat": 4,
 "nbformat_minor": 4
}
