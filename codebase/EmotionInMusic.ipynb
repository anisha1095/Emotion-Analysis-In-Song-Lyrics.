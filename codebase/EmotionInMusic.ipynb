{
 "cells": [
  {
   "cell_type": "markdown",
   "metadata": {},
   "source": [
    "## Loading Libraries"
   ]
  },
  {
   "cell_type": "code",
   "execution_count": 19,
   "metadata": {},
   "outputs": [
    {
     "name": "stderr",
     "output_type": "stream",
     "text": [
      "[nltk_data] Downloading package stopwords to\n",
      "[nltk_data]     /Users/anishajauhari/nltk_data...\n",
      "[nltk_data]   Package stopwords is already up-to-date!\n",
      "[nltk_data] Downloading package words to\n",
      "[nltk_data]     /Users/anishajauhari/nltk_data...\n",
      "[nltk_data]   Package words is already up-to-date!\n"
     ]
    },
    {
     "data": {
      "text/plain": [
       "True"
      ]
     },
     "execution_count": 19,
     "metadata": {},
     "output_type": "execute_result"
    }
   ],
   "source": [
    "import pandas as pd\n",
    "import numpy as np\n",
    "import string\n",
    "import warnings\n",
    "import math\n",
    "import nltk\n",
    "import json\n",
    "from langdetect import detect\n",
    "from libsvm import *\n",
    "from nltk.stem import PorterStemmer\n",
    "from sklearn.feature_selection import mutual_info_classif\n",
    "from sklearn.feature_extraction.text import CountVectorizer\n",
    "from sklearn.svm import SVC\n",
    "from nltk.corpus import stopwords\n",
    "from sklearn.feature_extraction.text import TfidfVectorizer\n",
    "from sklearn.multiclass import OneVsRestClassifier\n",
    "from sklearn.naive_bayes import MultinomialNB\n",
    "from sklearn.ensemble import BaggingClassifier\n",
    "from sklearn.model_selection import RandomizedSearchCV\n",
    "from IPython.display import display\n",
    "\n",
    "from scipy.sparse import csr_matrix\n",
    "from sklearn.ensemble import RandomForestClassifier\n",
    "from sklearn.model_selection import train_test_split\n",
    "from sklearn.metrics import confusion_matrix\n",
    "from sklearn.metrics import classification_report\n",
    "from sklearn import svm\n",
    "import dask.dataframe as dd\n",
    "import multiprocessing\n",
    "import swifter\n",
    "warnings.filterwarnings('ignore')\n",
    "nltk.download('stopwords')\n",
    "nltk.download('words')\n",
    "# pd.set_option('display.max_colwidth', None)\n"
   ]
  },
  {
   "cell_type": "code",
   "execution_count": 4,
   "metadata": {},
   "outputs": [],
   "source": [
    "# pip install pyspellchecker"
   ]
  },
  {
   "cell_type": "code",
   "execution_count": 5,
   "metadata": {},
   "outputs": [],
   "source": [
    "## Dataset Purification"
   ]
  },
  {
   "cell_type": "code",
   "execution_count": 6,
   "metadata": {},
   "outputs": [],
   "source": [
    "# dataset = pd.read_csv(\"Project Dataset/dataset_2.csv\")\n",
    "# drop_index = []\n",
    "# for index, row in dataset.iterrows():\n",
    "#     try:\n",
    "#         if detect(row[\"lyrics\"]) == \"en\":\n",
    "#             continue\n",
    "#         else:\n",
    "#             drop_index.append(index)\n",
    "#     except Exception as e:\n",
    "#         pass\n",
    "# dataset = dataset.drop(drop_index)\n",
    "# dataset = dataset.loc[dataset[\"genre\"]!=\"Not Available\"]\n",
    "# dataset[\"genre\"].value_counts()"
   ]
  },
  {
   "cell_type": "code",
   "execution_count": 7,
   "metadata": {},
   "outputs": [],
   "source": [
    "dataset = pd.read_csv(\"filtered_dataset.csv\")"
   ]
  },
  {
   "cell_type": "code",
   "execution_count": 9,
   "metadata": {},
   "outputs": [],
   "source": [
    "dataset[\"song\"] = dataset[\"song\"].apply(lambda x : str(x).replace(\"-\",\" \"))\n",
    "dataset[\"artist\"] = dataset[\"artist\"].apply(lambda x : str(x).replace(\"-\",\" \"))"
   ]
  },
  {
   "cell_type": "code",
   "execution_count": 10,
   "metadata": {},
   "outputs": [
    {
     "data": {
      "text/plain": [
       "Rock    94386\n",
       "Pop     31157\n",
       "Name: genre, dtype: int64"
      ]
     },
     "execution_count": 10,
     "metadata": {},
     "output_type": "execute_result"
    }
   ],
   "source": [
    "rock_pop_dataset = dataset.loc[(dataset[\"genre\"] == \"Pop\") | (dataset[\"genre\"] == \"Rock\")]\n",
    "rock_pop_dataset[\"genre\"].value_counts()\n",
    "# rock_pop_dataset.to_csv(\"rockpopdataset.csv\")"
   ]
  },
  {
   "cell_type": "markdown",
   "metadata": {},
   "source": [
    "## Exploratory Data Analysis"
   ]
  },
  {
   "cell_type": "code",
   "execution_count": 11,
   "metadata": {},
   "outputs": [
    {
     "data": {
      "text/plain": [
       "<AxesSubplot:xlabel='Genre', ylabel='No of songs'>"
      ]
     },
     "execution_count": 11,
     "metadata": {},
     "output_type": "execute_result"
    },
    {
     "data": {
      "image/png": "[encoded data removed]",
      "text/plain": [
       "<Figure size 432x288 with 1 Axes>"
      ]
     },
     "metadata": {
      "needs_background": "light"
     },
     "output_type": "display_data"
    }
   ],
   "source": [
    "dataset[\"genre\"].value_counts()\n",
    "dataset[\"genre\"].value_counts().plot(kind=\"bar\", xlabel=\"Genre\", ylabel=\"No of songs\")"
   ]
  },
  {
   "cell_type": "code",
   "execution_count": 12,
   "metadata": {},
   "outputs": [
    {
     "data": {
      "text/plain": [
       "<AxesSubplot:xlabel='Genre', ylabel='No of songs'>"
      ]
     },
     "execution_count": 12,
     "metadata": {},
     "output_type": "execute_result"
    },
    {
     "data": {
      "image/png": "[encoded data removed]",
      "text/plain": [
       "<Figure size 432x288 with 1 Axes>"
      ]
     },
     "metadata": {
      "needs_background": "light"
     },
     "output_type": "display_data"
    }
   ],
   "source": [
    "rock_pop_dataset['genre'].value_counts().plot(kind=\"bar\", xlabel=\"Genre\", ylabel=\"No of songs\")"
   ]
  },
  {
   "cell_type": "markdown",
   "metadata": {},
   "source": [
    "## Preprocessing"
   ]
  },
  {
   "cell_type": "code",
   "execution_count": 13,
   "metadata": {},
   "outputs": [],
   "source": [
    "# rock_pop_dataset[\"genre\"].value_counts()"
   ]
  },
  {
   "cell_type": "code",
   "execution_count": 14,
   "metadata": {},
   "outputs": [],
   "source": [
    "ps = PorterStemmer()\n",
    "stopwords = stopwords.words('english')\n",
    "exclist = string.punctuation + string.digits\n",
    "# remove punctuations and digits from lyrics\n",
    "table_ = str.maketrans('', '', exclist)\n",
    "rock_pop_dataset[\"filtered_lyrics\"] = rock_pop_dataset[\"lyrics\"].apply(lambda x : x.lower().translate(table_))\n",
    "# stemming the lyrics\n",
    "# rock_pop_dataset[\"filtered_lyrics\"] = rock_pop_dataset[\"filtered_lyrics\"].apply(lambda x: [ps.stem(y.lower()) for y in x.split(\" \")])\n",
    "# stopword removal \n",
    "rock_pop_dataset[\"filtered_lyrics\"] = rock_pop_dataset[\"filtered_lyrics\"].apply(lambda x : ' '.join( y for y in x.split(\" \") if y not in stopwords))"
   ]
  },
  {
   "cell_type": "code",
   "execution_count": 15,
   "metadata": {},
   "outputs": [],
   "source": [
    "# rock_pop_dataset.drop(columns = [\"Unnamed: 0\"])\n",
    "target = rock_pop_dataset[\"genre\"].astype('category').cat.codes"
   ]
  },
  {
   "cell_type": "code",
   "execution_count": 16,
   "metadata": {},
   "outputs": [],
   "source": [
    "rock_pop_dataset[\"misspelled_words\"] = rock_pop_dataset[\"filtered_lyrics\"].apply(lambda x : len(spell.unknown(x.split())))"
   ]
  },
  {
   "cell_type": "code",
   "execution_count": 17,
   "metadata": {},
   "outputs": [],
   "source": [
    "rock_pop_dataset[\"unique_words\"] = rock_pop_dataset[\"filtered_lyrics\"].apply(lambda x : len(set(x.split())))"
   ]
  },
  {
   "cell_type": "code",
   "execution_count": 31,
   "metadata": {},
   "outputs": [],
   "source": [
    "### Replacing slang \n",
    "SMS_SLANGS = {\"ain't\":\"is not\",\"aren't\":\"are not\",\"can't\":\"cannot\",\"can't've\":\"cannot have\",\n",
    "          \"'cause\":\"because\",\"could've\":\"could have\",\"couldn't\":\"could not\",\"couldn't've\":\"could not have\",\n",
    "          \"didn't\":\"did not\",\"doesn't\":\"does not\",\"don't\":\"do not\",\"hadn't\":\"had not\",\"hadn't've\":\"had not have\",\n",
    "          \"hasn't\":\"has not\",\"haven't\":\"have not\",\"he'd\":\"he would\",\"he'd've\":\"he would have\",\"he'll\":\"he will\",\n",
    "          \"he'll've\":\"he he will have\",\"he's\":\"he is\",\"how'd\":\"how did\",\"how'd'y\":\"how do you\",\"how'll\":\"how will\",\n",
    "          \"how's\":\"how is\",\"I'd\":\"I would\",\"I'd've\":\"I would have\",\"I'll\":\"I will\",\"I'll've\":\"I will have\",\"I'm\":\"I am\",\n",
    "          \"I've\":\"I have\",\"i'd\":\"i would\",\"i'd've\":\"i would have\",\"i'll\":\"i will\",\"i'll've\":\"i will have\",\"i'm\":\"i am\",\n",
    "          \"i've\":\"i have\",\"isn't\":\"is not\",\"it'd\":\"it would\",\"it'd've\":\"it would have\",\"it'll\":\"it will\",\"it'll've\":\"it will have\",\n",
    "          \"it's\":\"it is\",\"let's\":\"let us\",\"ma'am\":\"madam\",\"mayn't\":\"may not\",\"might've\":\"might have\",\n",
    "          \"mightn't\":\"might not\",\"mightn't've\":\"might not have\",\"must've\":\"must have\",\"mustn't\":\"must not\",\"mustn't've\":\"must not have\",\n",
    "          \"needn't\":\"need not\",\"needn't've\":\"need not have\",\"o'clock\":\"of the clock\",\"oughtn't\":\"ought not\",\"oughtn't've\":\"ought not have\",\n",
    "          \"shan't\":\"shall not\",\"sha'n't\":\"shall not\",\"shan't've\":\"shall not have\",\"she'd\":\"she would\",\"she'd've\":\"she would have\",\n",
    "          \"she'll\":\"she will\",\"she'll've\":\"she will have\",\"she's\":\"she is\",\"should've\":\"should have\",\"shouldn't\":\"should not\",\n",
    "          \"shouldn't've\":\"should not have\",\"so've\":\"so have\",\"so's\":\"so as\",\"that'd\":\"that would\",\"that'd've\":\"that would have\",\n",
    "          \"that's\":\"that is\",\"there'd\":\"there would\",\"there'd've\":\"there would have\",\"there's\":\"there is\",\"they'd\":\"they would\",\n",
    "          \"they'd've\":\"they would have\",\"they'll\":\"they will\",\"they'll've\":\"they will have\",\"they're\":\"they are\",\"they've\":\"they have\",\n",
    "          \"to've\":\"to have\",\"wasn't\":\"was not\",\"we'd\":\"we would\",\"we'd've\":\"we would have\",\"we'll\":\"we will\",\"we'll've\":\"we will have\",\n",
    "          \"we're\":\"we are\",\"we've\":\"we have\",\"weren't\":\"were not\",\"what'll\":\"what will\",\"what'll've\":\"what will have\",\n",
    "          \"what're\":\"what are\",\"what's\":\"what is\",\"what've\":\"what have\",\"when's\":\"when is\",\"when've\":\"when have\",\n",
    "          \"where'd\":\"where did\",\"where's\":\"where is\",\"where've\":\"where have\",\"who'll\":\"who will\",\"who'll've\":\"who will have\",\n",
    "          \"who's\":\"who is\",\"who've\":\"who have\",\"why's\":\"why is\",\"why've\":\"why have\",\"will've\":\"will have\",\"won't\":\"will not\",\n",
    "          \"won't've\":\"will not have\",\"would've\":\"would have\",\"wouldn't\":\"would not\",\"wouldn't've\":\"would not have\",\"y'all\":\"you all\",\n",
    "          \"y'all'd\":\"you all would\",\"y'all'd've\":\"you all would have\",\"y'all're\":\"you all are\",\"y'all've\":\"you all have\",\n",
    "          \"you'd\":\"you would\",\"you'd've\":\"you would have\",\"you'll\":\"you will\",\"you'll've\":\"you will have\",\n",
    "          \"you're\":\"you are\",\"you've\":\"you have\"}\n",
    "\n",
    "with open('ShortendText.json','r') as file:\n",
    "    abbr_dict=json.loads(file.read())\n",
    "abbr_dict.update(SMS_SLANGS)\n",
    "list_of_terms = abbr_dict.keys()\n",
    "\n",
    "rock_pop_dataset[\"slang_words\"] = rock_pop_dataset[\"filtered_lyrics\"].apply(lambda x : len(set(list_of_terms)&set(x.split())))\n"
   ]
  },
  {
   "cell_type": "code",
   "execution_count": 32,
   "metadata": {},
   "outputs": [
    {
     "data": {
      "text/html": [
       "<div>\n",
       "<style scoped>\n",
       "    .dataframe tbody tr th:only-of-type {\n",
       "        vertical-align: middle;\n",
       "    }\n",
       "\n",
       "    .dataframe tbody tr th {\n",
       "        vertical-align: top;\n",
       "    }\n",
       "\n",
       "    .dataframe thead th {\n",
       "        text-align: right;\n",
       "    }\n",
       "</style>\n",
       "<table border=\"1\" class=\"dataframe\">\n",
       "  <thead>\n",
       "    <tr style=\"text-align: right;\">\n",
       "      <th></th>\n",
       "      <th>song</th>\n",
       "      <th>year</th>\n",
       "      <th>artist</th>\n",
       "      <th>genre</th>\n",
       "      <th>lyrics</th>\n",
       "      <th>filtered_lyrics</th>\n",
       "      <th>misspelled_words</th>\n",
       "      <th>unique_words</th>\n",
       "      <th>slang_words</th>\n",
       "    </tr>\n",
       "  </thead>\n",
       "  <tbody>\n",
       "    <tr>\n",
       "      <th>37613</th>\n",
       "      <td>been there all the time</td>\n",
       "      <td>2007-01-01</td>\n",
       "      <td>dinosaur jr</td>\n",
       "      <td>Rock</td>\n",
       "      <td>Can I fix it and still care? Can I run and you...</td>\n",
       "      <td>fix still care run youll wish could run hide j...</td>\n",
       "      <td>0</td>\n",
       "      <td>37</td>\n",
       "      <td>3</td>\n",
       "    </tr>\n",
       "    <tr>\n",
       "      <th>173557</th>\n",
       "      <td>i am the amazon</td>\n",
       "      <td>2006-01-01</td>\n",
       "      <td>army of lovers</td>\n",
       "      <td>Pop</td>\n",
       "      <td>I am the amazon I am the amazon I am the amazo...</td>\n",
       "      <td>amazon amazon amazon amazon amazon amazon amaz...</td>\n",
       "      <td>22</td>\n",
       "      <td>40</td>\n",
       "      <td>3</td>\n",
       "    </tr>\n",
       "    <tr>\n",
       "      <th>12877</th>\n",
       "      <td>do you hear me anymore</td>\n",
       "      <td>2006-01-01</td>\n",
       "      <td>anything box</td>\n",
       "      <td>Pop</td>\n",
       "      <td>(claude s.) Do you hear me anymore? Do you hea...</td>\n",
       "      <td>claude hear anymore hear anymore staring sea t...</td>\n",
       "      <td>1</td>\n",
       "      <td>33</td>\n",
       "      <td>0</td>\n",
       "    </tr>\n",
       "    <tr>\n",
       "      <th>10745</th>\n",
       "      <td>gotta have love</td>\n",
       "      <td>2012-01-01</td>\n",
       "      <td>capital lights</td>\n",
       "      <td>Rock</td>\n",
       "      <td>In this world, it's all about who you know And...</td>\n",
       "      <td>world know know someone thats world doubts wor...</td>\n",
       "      <td>0</td>\n",
       "      <td>69</td>\n",
       "      <td>1</td>\n",
       "    </tr>\n",
       "    <tr>\n",
       "      <th>32574</th>\n",
       "      <td>jack kerouac</td>\n",
       "      <td>2010-01-01</td>\n",
       "      <td>brooke fraser</td>\n",
       "      <td>Pop</td>\n",
       "      <td>He got the droop of a fatherless child Almost ...</td>\n",
       "      <td>got droop fatherless child almost imperceptibl...</td>\n",
       "      <td>4</td>\n",
       "      <td>61</td>\n",
       "      <td>2</td>\n",
       "    </tr>\n",
       "    <tr>\n",
       "      <th>142075</th>\n",
       "      <td>old old song</td>\n",
       "      <td>2006-01-01</td>\n",
       "      <td>ani difranco</td>\n",
       "      <td>Rock</td>\n",
       "      <td>i'll sing you a song that starts out descripti...</td>\n",
       "      <td>ill sing song starts descriptive locates time ...</td>\n",
       "      <td>0</td>\n",
       "      <td>105</td>\n",
       "      <td>2</td>\n",
       "    </tr>\n",
       "    <tr>\n",
       "      <th>6326</th>\n",
       "      <td>get down</td>\n",
       "      <td>2007-01-01</td>\n",
       "      <td>all 4 one</td>\n",
       "      <td>Pop</td>\n",
       "      <td>Just got done workin' On my way home and sitti...</td>\n",
       "      <td>got done workin way home sittin  friday night ...</td>\n",
       "      <td>4</td>\n",
       "      <td>100</td>\n",
       "      <td>7</td>\n",
       "    </tr>\n",
       "    <tr>\n",
       "      <th>112610</th>\n",
       "      <td>i m still waiting</td>\n",
       "      <td>2013-01-01</td>\n",
       "      <td>five star</td>\n",
       "      <td>Pop</td>\n",
       "      <td>Cheeky little boy woth a pretty face Lost all ...</td>\n",
       "      <td>cheeky little boy woth pretty face lost abilit...</td>\n",
       "      <td>5</td>\n",
       "      <td>105</td>\n",
       "      <td>9</td>\n",
       "    </tr>\n",
       "    <tr>\n",
       "      <th>37709</th>\n",
       "      <td>gettin rough</td>\n",
       "      <td>1997-01-01</td>\n",
       "      <td>dinosaur jr</td>\n",
       "      <td>Rock</td>\n",
       "      <td>I know you're waiting I'm through relating I'v...</td>\n",
       "      <td>know youre waiting im relating ive enough im s...</td>\n",
       "      <td>0</td>\n",
       "      <td>46</td>\n",
       "      <td>4</td>\n",
       "    </tr>\n",
       "    <tr>\n",
       "      <th>115797</th>\n",
       "      <td>mountains to move</td>\n",
       "      <td>2009-01-01</td>\n",
       "      <td>gavin degraw</td>\n",
       "      <td>Rock</td>\n",
       "      <td>Sunlight goes down, as you pack up your things...</td>\n",
       "      <td>sunlight goes pack things feelings amount work...</td>\n",
       "      <td>0</td>\n",
       "      <td>77</td>\n",
       "      <td>4</td>\n",
       "    </tr>\n",
       "  </tbody>\n",
       "</table>\n",
       "</div>"
      ],
      "text/plain": [
       "                           song        year          artist genre  \\\n",
       "37613   been there all the time  2007-01-01     dinosaur jr  Rock   \n",
       "173557          i am the amazon  2006-01-01  army of lovers   Pop   \n",
       "12877    do you hear me anymore  2006-01-01    anything box   Pop   \n",
       "10745           gotta have love  2012-01-01  capital lights  Rock   \n",
       "32574              jack kerouac  2010-01-01   brooke fraser   Pop   \n",
       "142075             old old song  2006-01-01    ani difranco  Rock   \n",
       "6326                   get down  2007-01-01       all 4 one   Pop   \n",
       "112610        i m still waiting  2013-01-01       five star   Pop   \n",
       "37709              gettin rough  1997-01-01     dinosaur jr  Rock   \n",
       "115797        mountains to move  2009-01-01    gavin degraw  Rock   \n",
       "\n",
       "                                                   lyrics  \\\n",
       "37613   Can I fix it and still care? Can I run and you...   \n",
       "173557  I am the amazon I am the amazon I am the amazo...   \n",
       "12877   (claude s.) Do you hear me anymore? Do you hea...   \n",
       "10745   In this world, it's all about who you know And...   \n",
       "32574   He got the droop of a fatherless child Almost ...   \n",
       "142075  i'll sing you a song that starts out descripti...   \n",
       "6326    Just got done workin' On my way home and sitti...   \n",
       "112610  Cheeky little boy woth a pretty face Lost all ...   \n",
       "37709   I know you're waiting I'm through relating I'v...   \n",
       "115797  Sunlight goes down, as you pack up your things...   \n",
       "\n",
       "                                          filtered_lyrics  misspelled_words  \\\n",
       "37613   fix still care run youll wish could run hide j...                 0   \n",
       "173557  amazon amazon amazon amazon amazon amazon amaz...                22   \n",
       "12877   claude hear anymore hear anymore staring sea t...                 1   \n",
       "10745   world know know someone thats world doubts wor...                 0   \n",
       "32574   got droop fatherless child almost imperceptibl...                 4   \n",
       "142075  ill sing song starts descriptive locates time ...                 0   \n",
       "6326    got done workin way home sittin  friday night ...                 4   \n",
       "112610  cheeky little boy woth pretty face lost abilit...                 5   \n",
       "37709   know youre waiting im relating ive enough im s...                 0   \n",
       "115797  sunlight goes pack things feelings amount work...                 0   \n",
       "\n",
       "        unique_words  slang_words  \n",
       "37613             37            3  \n",
       "173557            40            3  \n",
       "12877             33            0  \n",
       "10745             69            1  \n",
       "32574             61            2  \n",
       "142075           105            2  \n",
       "6326             100            7  \n",
       "112610           105            9  \n",
       "37709             46            4  \n",
       "115797            77            4  "
      ]
     },
     "execution_count": 32,
     "metadata": {},
     "output_type": "execute_result"
    }
   ],
   "source": [
    "rock_pop_dataset.sample(10)"
   ]
  },
  {
   "cell_type": "code",
   "execution_count": 35,
   "metadata": {},
   "outputs": [
    {
     "data": {
      "text/plain": [
       "song                                               welcome to jamrock\n",
       "year                                                       2007-01-01\n",
       "artist                                                    alicia keys\n",
       "genre                                                             Pop\n",
       "lyrics              Love it or leave it alone Alicia keys ft commo...\n",
       "filtered_lyrics     love leave alone alicia keys ft common mos def...\n",
       "misspelled_words                                                   12\n",
       "unique_words                                                      214\n",
       "slang_words                                                        14\n",
       "Name: 173047, dtype: object"
      ]
     },
     "execution_count": 35,
     "metadata": {},
     "output_type": "execute_result"
    }
   ],
   "source": [
    "##### Adding Audio Features #########"
   ]
  },
  {
   "cell_type": "code",
   "execution_count": 36,
   "metadata": {},
   "outputs": [],
   "source": [
    "rock_pop_dataset.to_csv(\"rockpopdataset.csv\")"
   ]
  },
  {
   "cell_type": "markdown",
   "metadata": {},
   "source": [
    "## Feature Selection "
   ]
  },
  {
   "cell_type": "code",
   "execution_count": 44,
   "metadata": {},
   "outputs": [],
   "source": [
    "rock_pop_dataset = pd.read_csv(\"rockpopdataset.csv\")"
   ]
  },
  {
   "cell_type": "markdown",
   "metadata": {},
   "source": [
    "### Term Frequency Inverse Document Frequency - TFIDF "
   ]
  },
  {
   "cell_type": "code",
   "execution_count": 16,
   "metadata": {},
   "outputs": [],
   "source": [
    "tf_vec = TfidfVectorizer(analyzer = 'word', min_df = 5, max_df = 0.95)\n",
    "X = tf_vec.fit_transform(rock_pop_dataset[\"filtered_lyrics\"]).toarray()"
   ]
  },
  {
   "cell_type": "code",
   "execution_count": 17,
   "metadata": {},
   "outputs": [],
   "source": [
    "tfidf_df = pd.DataFrame(X, columns = tf_vec.get_feature_names())"
   ]
  },
  {
   "cell_type": "code",
   "execution_count": 18,
   "metadata": {},
   "outputs": [],
   "source": [
    "importance = np.argsort(np.asarray(X.sum(axis=0)).ravel())[::-1]\n",
    "tfidf_feature_names = np.array(tf_vec.get_feature_names())\n",
    "tf_idf_100 = tfidf_feature_names[importance[:100]]\n",
    "tf_idf_200 = tfidf_feature_names[importance[:200]]\n",
    "tf_idf_500 = tfidf_feature_names[importance[:500]]"
   ]
  },
  {
   "cell_type": "code",
   "execution_count": 21,
   "metadata": {},
   "outputs": [],
   "source": [
    "tfidf_df_100 = tfidf_df.loc[:, tfidf_df.columns.isin(tf_idf_100)]\n",
    "tfidf_df_200 = tfidf_df.loc[:, tfidf_df.columns.isin(tf_idf_200)]\n",
    "tfidf_df_500 = tfidf_df.loc[:, tfidf_df.columns.isin(tf_idf_500)]\n",
    "\n",
    "tfidf_df_100[\"index\"] = rock_pop_dataset.index\n",
    "tfidf_df_200[\"index\"] = rock_pop_dataset.index\n",
    "tfidf_df_500[\"index\"] = rock_pop_dataset.index\n",
    "\n",
    "tfidf_df_100[\"misspelled_words\"] = rock_pop_dataset[\"misspelled_words\"]\n",
    "tfidf_df_200[\"misspelled_words\"] = rock_pop_dataset[\"misspelled_words\"]\n",
    "tfidf_df_500[\"misspelled_words\"] = rock_pop_dataset[\"misspelled_words\"]\n",
    "\n",
    "tfidf_df_100[\"unique_words\"] = rock_pop_dataset[\"unique_words\"]\n",
    "tfidf_df_200[\"unique_words\"] = rock_pop_dataset[\"unique_words\"]\n",
    "tfidf_df_500[\"unique_words\"] = rock_pop_dataset[\"unique_words\"]\n",
    "\n",
    "tfidf_df_100[\"slang_words\"] = rock_pop_dataset[\"slang_words\"]\n",
    "tfidf_df_200[\"slang_words\"] = rock_pop_dataset[\"slang_words\"]\n",
    "tfidf_df_500[\"slang_words\"] = rock_pop_dataset[\"slang_words\"]"
   ]
  },
  {
   "cell_type": "markdown",
   "metadata": {},
   "source": [
    "### Information Gain "
   ]
  },
  {
   "cell_type": "code",
   "execution_count": 10,
   "metadata": {},
   "outputs": [],
   "source": [
    "vectorizer = CountVectorizer(analyzer='word', min_df = 5, max_df = 0.95)\n",
    "X = vectorizer.fit_transform(rock_pop_dataset[\"filtered_lyrics\"]).toarray()"
   ]
  },
  {
   "cell_type": "code",
   "execution_count": 11,
   "metadata": {},
   "outputs": [],
   "source": [
    "feature_terms = pd.DataFrame(vectorizer.get_feature_names(), columns=[\"Term\"])\n",
    "X = pd.DataFrame(X, columns = vectorizer.get_feature_names())\n",
    "# X"
   ]
  },
  {
   "cell_type": "code",
   "execution_count": 12,
   "metadata": {},
   "outputs": [],
   "source": [
    "rock = rock_pop_dataset.loc[rock_pop_dataset[\"genre\"] == \"Rock\"][\"filtered_lyrics\"]\n",
    "pop = rock_pop_dataset.loc[rock_pop_dataset[\"genre\"] == \"Pop\"][\"filtered_lyrics\"]\n"
   ]
  },
  {
   "cell_type": "code",
   "execution_count": 13,
   "metadata": {},
   "outputs": [],
   "source": [
    "# feature_terms[\"rock\"] = feature_terms[\"Term\"].swifter.apply(lambda a : sum(rock.str.contains(a)))\n",
    "# feature_terms[\"pop\"] = feature_terms[\"Term\"].swifter.apply(lambda a : sum(pop.str.contains(a)))"
   ]
  },
  {
   "cell_type": "code",
   "execution_count": 14,
   "metadata": {},
   "outputs": [],
   "source": [
    "feature_terms[\"rock\"] = dd.from_pandas(feature_terms[\"Term\"], npartitions=4*multiprocessing.cpu_count()).map_partitions(lambda dframe: dframe.apply(lambda a: sum(rock.str.contains(a)))).compute(scheduler='processes')\n",
    "feature_terms[\"pop\"] = dd.from_pandas(feature_terms[\"Term\"], npartitions=4*multiprocessing.cpu_count()).map_partitions(lambda dframe: dframe.apply(lambda a: sum(pop.str.contains(a)))).compute(scheduler='processes')\n"
   ]
  },
  {
   "cell_type": "code",
   "execution_count": 15,
   "metadata": {},
   "outputs": [],
   "source": [
    "# feature_terms[\"rock\"] = feature_terms[\"Term\"].apply(lambda a : sum(rock.str.contains(a)))"
   ]
  },
  {
   "cell_type": "code",
   "execution_count": 16,
   "metadata": {},
   "outputs": [],
   "source": [
    "# feature_terms[\"pop\"] = feature_terms[\"Term\"].apply(lambda a : sum(pop.str.contains(a)))"
   ]
  },
  {
   "cell_type": "code",
   "execution_count": 17,
   "metadata": {},
   "outputs": [],
   "source": [
    "# feature_terms"
   ]
  },
  {
   "cell_type": "code",
   "execution_count": 18,
   "metadata": {},
   "outputs": [],
   "source": [
    "feature_terms[\"not_rock\"] = 94386 - feature_terms[\"rock\"]"
   ]
  },
  {
   "cell_type": "code",
   "execution_count": 19,
   "metadata": {},
   "outputs": [],
   "source": [
    "feature_terms[\"not_pop\"] = 31157 - feature_terms[\"pop\"]"
   ]
  },
  {
   "cell_type": "code",
   "execution_count": 20,
   "metadata": {},
   "outputs": [],
   "source": [
    "def informationGain(term, entropy):\n",
    "    prob_rock = term[\"rock\"]/(term[\"rock\"] + term[\"pop\"])\n",
    "    prob_pop = term[\"pop\"]/(term[\"rock\"] + term[\"pop\"])\n",
    "    prob_not_rock = term[\"not_rock\"]/(term[\"not_rock\"] + term[\"not_pop\"])\n",
    "    prob_not_pop = term[\"not_pop\"]/(term[\"not_rock\"] + term[\"not_pop\"])\n",
    "    total_prob = (term[\"rock\"] + term[\"pop\"])/125543\n",
    "    not_total_prob = (term[\"not_rock\"] + term[\"not_pop\"])/125543\n",
    "    \n",
    "    final_entropy = (total_prob*(-1*((prob_rock*math.log2(prob_rock) if prob_rock!=0 else 0) + (prob_pop*math.log2(prob_pop)if prob_pop!=0 else 0)))) + (not_total_prob*(-1*((prob_not_rock*math.log2(prob_not_rock) if prob_not_rock!=0 else 0) + (prob_not_pop*math.log2(prob_not_pop)if prob_not_pop!=0 else 0))))\n",
    "        \n",
    "    return entropy - final_entropy"
   ]
  },
  {
   "cell_type": "code",
   "execution_count": 21,
   "metadata": {},
   "outputs": [],
   "source": [
    "entropy= -1 * (94386/125543) * math.log2(94386/125543) - (31157/125543) * math.log2(31157/125543)\n",
    "feature_terms[\"info_gain\"] = feature_terms.apply(lambda x : informationGain(x, entropy), axis = 1)"
   ]
  },
  {
   "cell_type": "code",
   "execution_count": 22,
   "metadata": {},
   "outputs": [],
   "source": [
    "feature_terms = feature_terms.sort_values(by=[\"info_gain\"], ascending=False)\n",
    "# feature_terms"
   ]
  },
  {
   "cell_type": "code",
   "execution_count": 23,
   "metadata": {},
   "outputs": [],
   "source": [
    "# feature_terms[:100][\"Term\"]"
   ]
  },
  {
   "cell_type": "code",
   "execution_count": 24,
   "metadata": {},
   "outputs": [],
   "source": [
    "ig_terms_100 = feature_terms[:100][\"Term\"]\n",
    "ig_terms_200 = feature_terms[:200][\"Term\"]\n",
    "ig_terms_500 = feature_terms[:500][\"Term\"]\n",
    "\n",
    "ig_100 = X.loc[:, X.columns.isin(ig_terms_100)]\n",
    "ig_200 = X.loc[:, X.columns.isin(ig_terms_200)]\n",
    "ig_500 = X.loc[:, X.columns.isin(ig_terms_500)]"
   ]
  },
  {
   "cell_type": "code",
   "execution_count": 25,
   "metadata": {},
   "outputs": [],
   "source": [
    "# ig_500"
   ]
  },
  {
   "cell_type": "code",
   "execution_count": 26,
   "metadata": {},
   "outputs": [],
   "source": [
    "ig_100[\"index\"] = rock_pop_dataset.index\n",
    "ig_200[\"index\"] = rock_pop_dataset.index\n",
    "ig_500[\"index\"] = rock_pop_dataset.index\n"
   ]
  },
  {
   "cell_type": "markdown",
   "metadata": {},
   "source": [
    "## Classification "
   ]
  },
  {
   "cell_type": "code",
   "execution_count": 28,
   "metadata": {},
   "outputs": [],
   "source": [
    "def convertToSparse(df):\n",
    "    df_sparse = csr_matrix(df.iloc[:, :], dtype=np.int8).toarray()\n",
    "    return pd.DataFrame(df_sparse, index = df.index, columns = df.columns[:])"
   ]
  },
  {
   "cell_type": "code",
   "execution_count": 29,
   "metadata": {},
   "outputs": [],
   "source": [
    "def trainTestSplit(df, y):\n",
    "    return train_test_split(df, y, test_size=0.20, random_state=42)"
   ]
  },
  {
   "cell_type": "code",
   "execution_count": 30,
   "metadata": {},
   "outputs": [],
   "source": [
    "def model_fit(X_train, y_train, model = \"NB\"):\n",
    "    if model == \"NB\":\n",
    "        NB_Classifier = MultinomialNB()\n",
    "        model = NB_Classifier.fit(X_train, y_train)\n",
    "    elif model == \"SVM\":\n",
    "        model = OneVsRestClassifier(BaggingClassifier(\n",
    "            SVC(kernel='rbf', probability=True, class_weight='balanced'), \n",
    "                max_samples=1.0 / 10, \n",
    "                n_estimators=10))\n",
    "        model.fit(X_train, y_train)\n",
    "    else:\n",
    "        rf = RandomForestClassifier(max_depth = 2, random_state = 0)\n",
    "        model = rf.fit(X_train, y_train)\n",
    "    return model"
   ]
  },
  {
   "cell_type": "code",
   "execution_count": 31,
   "metadata": {},
   "outputs": [],
   "source": [
    "def evaluate_model(y_test, y_pred, model_name):\n",
    "    print(\"\\nConfusion Matrix : \"+model_name)\n",
    "    print(confusion_matrix(y_test, y_pred))\n",
    "    print(\"\\n*******************************\")\n",
    "    print(\"\\nClassification Report : \"+model_name)\n",
    "    print(classification_report(y_test, y_pred))"
   ]
  },
  {
   "cell_type": "code",
   "execution_count": 32,
   "metadata": {},
   "outputs": [],
   "source": [
    "def run_model(df):\n",
    "    convertToSparse(df)\n",
    "    X_train, X_test, y_train, y_test = trainTestSplit(df, target)\n",
    "    model = model_fit(X_train, y_train)\n",
    "    y_pred = model.predict(X_test)\n",
    "    y_pred_changed = pd.Series(y_pred, index = y_test.index)\n",
    "#     evaluate_model(y_test, y_pred, \"NB\")\n",
    "    print(\"--- Naive Bayes Misclassification ---\")\n",
    "    false_neg = X_test[list((y_test == 1) & (y_pred == 0))]\n",
    "    false_pos = X_test[list((y_test == 0) & (y_pred == 1))]\n",
    "    if len(false_neg) > 0:\n",
    "        print(\"--- False Neg Results ---\")\n",
    "        print(y_test[false_neg[:5][\"index\"]])\n",
    "        print(y_pred_changed[false_neg[:5][\"index\"]])\n",
    "        display(rock_pop_dataset.loc[false_neg[:5][\"index\"]])\n",
    "    if len(false_pos)>0:\n",
    "        print(\"--- False Pos Results ---\")\n",
    "        print(y_test[false_pos[:5][\"index\"]])\n",
    "        print(y_pred_changed[false_pos[:5][\"index\"]])\n",
    "        display(rock_pop_dataset.loc[false_pos[:5][\"index\"]])\n",
    "    \n",
    "    \n",
    "    \n",
    "    \n",
    "    \n",
    "    \n",
    "    model = model_fit(X_train, y_train, \"RF\")\n",
    "    y_pred = model.predict(X_test)\n",
    "    y_pred_changed = pd.Series(y_pred, index = y_test.index)\n",
    "    print(\"--- Random Forest Misclassification ---\")\n",
    "    false_neg = X_test[list((y_test == 1) & (y_pred == 0))]\n",
    "    false_pos = X_test[list((y_test == 0) & (y_pred==1))]\n",
    "    if len(false_neg) > 0:\n",
    "        print(\"--- False Neg Results ---\")\n",
    "        print(y_test[false_neg[:5][\"index\"]])\n",
    "        print(y_pred_changed[false_neg[:5][\"index\"]])\n",
    "        display(rock_pop_dataset.iloc[false_neg[:5][\"index\"]])\n",
    "    if len(false_pos)>0:\n",
    "        print(\"--- False Pos Results ---\")\n",
    "        print(y_test[false_pos[:5][\"index\"]])\n",
    "        print(y_pred_changed[false_pos[:5][\"index\"]])\n",
    "        display(rock_pop_dataset.loc[false_pos[:5][\"index\"]])\n",
    "#     evaluate_model(y_test, y_pred, \"RF\")\n",
    "    \n",
    "    \n",
    "    \n",
    "    model = model_fit(X_train, y_train, \"SVM\")\n",
    "    y_pred = model.predict(X_test)\n",
    "    y_pred_changed = pd.Series(y_pred, index = y_test.index)\n",
    "    print(\"--- SVM Misclassification ---\")\n",
    "    false_neg = X_test[list((y_test == 1) & (y_pred == 0))]\n",
    "    false_pos = X_test[list((y_test == 0) & (y_pred==1))]\n",
    "    if len(false_neg) > 0:\n",
    "        print(\"--- False Neg Results ---\")\n",
    "        print(y_test[false_neg[:5][\"index\"]])\n",
    "        print(y_pred_changed[false_neg[:5][\"index\"]])\n",
    "        display(rock_pop_dataset.loc[false_neg[:5][\"index\"]])\n",
    "    if len(false_pos)>0:\n",
    "        print(\"--- False Pos Results ---\")\n",
    "        print(y_test[false_pos[:5][\"index\"]])\n",
    "        print(y_pred_changed[false_pos[:5][\"index\"]])\n",
    "        display(rock_pop_dataset.loc[false_pos[:5][\"index\"]])\n",
    "#     evaluate_model(y_test, y_pred, \"SVM\")"
   ]
  },
  {
   "cell_type": "markdown",
   "metadata": {},
   "source": [
    "### Analysing TFIDF Models "
   ]
  },
  {
   "cell_type": "code",
   "execution_count": 75,
   "metadata": {},
   "outputs": [
    {
     "name": "stdout",
     "output_type": "stream",
     "text": [
      "--- Naive Bayes Misclassification ---\n",
      "--- False Pos Results ---\n",
      "24002     0\n",
      "46011     0\n",
      "135453    0\n",
      "1621      0\n",
      "87593     0\n",
      "dtype: int8\n",
      "24002     1\n",
      "46011     1\n",
      "135453    1\n",
      "1621      1\n",
      "87593     1\n",
      "dtype: int8\n"
     ]
    },
    {
     "data": {
      "text/html": [
       "<div>\n",
       "<style scoped>\n",
       "    .dataframe tbody tr th:only-of-type {\n",
       "        vertical-align: middle;\n",
       "    }\n",
       "\n",
       "    .dataframe tbody tr th {\n",
       "        vertical-align: top;\n",
       "    }\n",
       "\n",
       "    .dataframe thead th {\n",
       "        text-align: right;\n",
       "    }\n",
       "</style>\n",
       "<table border=\"1\" class=\"dataframe\">\n",
       "  <thead>\n",
       "    <tr style=\"text-align: right;\">\n",
       "      <th></th>\n",
       "      <th>song</th>\n",
       "      <th>year</th>\n",
       "      <th>artist</th>\n",
       "      <th>genre</th>\n",
       "      <th>lyrics</th>\n",
       "      <th>filtered_lyrics</th>\n",
       "    </tr>\n",
       "  </thead>\n",
       "  <tbody>\n",
       "    <tr>\n",
       "      <th>24002</th>\n",
       "      <td>henry</td>\n",
       "      <td>2010-01-01</td>\n",
       "      <td>emma dean</td>\n",
       "      <td>Pop</td>\n",
       "      <td>Aching to be in the room 'cos no one can tell ...</td>\n",
       "      <td>aching room cos one tell everythings going way...</td>\n",
       "    </tr>\n",
       "    <tr>\n",
       "      <th>46011</th>\n",
       "      <td>i need a disguise</td>\n",
       "      <td>2014-01-01</td>\n",
       "      <td>belinda carlisle</td>\n",
       "      <td>Pop</td>\n",
       "      <td>There's a mask on the wall That I should be we...</td>\n",
       "      <td>theres mask wall wearing keep seeing im really...</td>\n",
       "    </tr>\n",
       "    <tr>\n",
       "      <th>135453</th>\n",
       "      <td>wow</td>\n",
       "      <td>2006-01-01</td>\n",
       "      <td>brandy</td>\n",
       "      <td>Pop</td>\n",
       "      <td>No more sittin' at home at night Waiting for y...</td>\n",
       "      <td>sittin home night waiting come home cry found ...</td>\n",
       "    </tr>\n",
       "    <tr>\n",
       "      <th>1621</th>\n",
       "      <td>the homes of donegal</td>\n",
       "      <td>2009-01-01</td>\n",
       "      <td>celtic thunder</td>\n",
       "      <td>Pop</td>\n",
       "      <td>I just dropped in to see you all I'll only sta...</td>\n",
       "      <td>dropped see ill stay awhile want hear youre ge...</td>\n",
       "    </tr>\n",
       "    <tr>\n",
       "      <th>87593</th>\n",
       "      <td>time of year</td>\n",
       "      <td>2006-01-01</td>\n",
       "      <td>ashanti</td>\n",
       "      <td>Pop</td>\n",
       "      <td>Christmas is the time of year That we become a...</td>\n",
       "      <td>christmas time year become one tears joy heart...</td>\n",
       "    </tr>\n",
       "  </tbody>\n",
       "</table>\n",
       "</div>"
      ],
      "text/plain": [
       "                        song        year            artist genre  \\\n",
       "24002                  henry  2010-01-01         emma dean   Pop   \n",
       "46011      i need a disguise  2014-01-01  belinda carlisle   Pop   \n",
       "135453                   wow  2006-01-01            brandy   Pop   \n",
       "1621    the homes of donegal  2009-01-01    celtic thunder   Pop   \n",
       "87593           time of year  2006-01-01           ashanti   Pop   \n",
       "\n",
       "                                                   lyrics  \\\n",
       "24002   Aching to be in the room 'cos no one can tell ...   \n",
       "46011   There's a mask on the wall That I should be we...   \n",
       "135453  No more sittin' at home at night Waiting for y...   \n",
       "1621    I just dropped in to see you all I'll only sta...   \n",
       "87593   Christmas is the time of year That we become a...   \n",
       "\n",
       "                                          filtered_lyrics  \n",
       "24002   aching room cos one tell everythings going way...  \n",
       "46011   theres mask wall wearing keep seeing im really...  \n",
       "135453  sittin home night waiting come home cry found ...  \n",
       "1621    dropped see ill stay awhile want hear youre ge...  \n",
       "87593   christmas time year become one tears joy heart...  "
      ]
     },
     "metadata": {},
     "output_type": "display_data"
    },
    {
     "name": "stdout",
     "output_type": "stream",
     "text": [
      "--- Random Forest Misclassification ---\n",
      "--- False Pos Results ---\n",
      "24002     0\n",
      "46011     0\n",
      "135453    0\n",
      "1621      0\n",
      "87593     0\n",
      "dtype: int8\n",
      "24002     1\n",
      "46011     1\n",
      "135453    1\n",
      "1621      1\n",
      "87593     1\n",
      "dtype: int8\n"
     ]
    },
    {
     "data": {
      "text/html": [
       "<div>\n",
       "<style scoped>\n",
       "    .dataframe tbody tr th:only-of-type {\n",
       "        vertical-align: middle;\n",
       "    }\n",
       "\n",
       "    .dataframe tbody tr th {\n",
       "        vertical-align: top;\n",
       "    }\n",
       "\n",
       "    .dataframe thead th {\n",
       "        text-align: right;\n",
       "    }\n",
       "</style>\n",
       "<table border=\"1\" class=\"dataframe\">\n",
       "  <thead>\n",
       "    <tr style=\"text-align: right;\">\n",
       "      <th></th>\n",
       "      <th>song</th>\n",
       "      <th>year</th>\n",
       "      <th>artist</th>\n",
       "      <th>genre</th>\n",
       "      <th>lyrics</th>\n",
       "      <th>filtered_lyrics</th>\n",
       "    </tr>\n",
       "  </thead>\n",
       "  <tbody>\n",
       "    <tr>\n",
       "      <th>24002</th>\n",
       "      <td>henry</td>\n",
       "      <td>2010-01-01</td>\n",
       "      <td>emma dean</td>\n",
       "      <td>Pop</td>\n",
       "      <td>Aching to be in the room 'cos no one can tell ...</td>\n",
       "      <td>aching room cos one tell everythings going way...</td>\n",
       "    </tr>\n",
       "    <tr>\n",
       "      <th>46011</th>\n",
       "      <td>i need a disguise</td>\n",
       "      <td>2014-01-01</td>\n",
       "      <td>belinda carlisle</td>\n",
       "      <td>Pop</td>\n",
       "      <td>There's a mask on the wall That I should be we...</td>\n",
       "      <td>theres mask wall wearing keep seeing im really...</td>\n",
       "    </tr>\n",
       "    <tr>\n",
       "      <th>135453</th>\n",
       "      <td>wow</td>\n",
       "      <td>2006-01-01</td>\n",
       "      <td>brandy</td>\n",
       "      <td>Pop</td>\n",
       "      <td>No more sittin' at home at night Waiting for y...</td>\n",
       "      <td>sittin home night waiting come home cry found ...</td>\n",
       "    </tr>\n",
       "    <tr>\n",
       "      <th>1621</th>\n",
       "      <td>the homes of donegal</td>\n",
       "      <td>2009-01-01</td>\n",
       "      <td>celtic thunder</td>\n",
       "      <td>Pop</td>\n",
       "      <td>I just dropped in to see you all I'll only sta...</td>\n",
       "      <td>dropped see ill stay awhile want hear youre ge...</td>\n",
       "    </tr>\n",
       "    <tr>\n",
       "      <th>87593</th>\n",
       "      <td>time of year</td>\n",
       "      <td>2006-01-01</td>\n",
       "      <td>ashanti</td>\n",
       "      <td>Pop</td>\n",
       "      <td>Christmas is the time of year That we become a...</td>\n",
       "      <td>christmas time year become one tears joy heart...</td>\n",
       "    </tr>\n",
       "  </tbody>\n",
       "</table>\n",
       "</div>"
      ],
      "text/plain": [
       "                        song        year            artist genre  \\\n",
       "24002                  henry  2010-01-01         emma dean   Pop   \n",
       "46011      i need a disguise  2014-01-01  belinda carlisle   Pop   \n",
       "135453                   wow  2006-01-01            brandy   Pop   \n",
       "1621    the homes of donegal  2009-01-01    celtic thunder   Pop   \n",
       "87593           time of year  2006-01-01           ashanti   Pop   \n",
       "\n",
       "                                                   lyrics  \\\n",
       "24002   Aching to be in the room 'cos no one can tell ...   \n",
       "46011   There's a mask on the wall That I should be we...   \n",
       "135453  No more sittin' at home at night Waiting for y...   \n",
       "1621    I just dropped in to see you all I'll only sta...   \n",
       "87593   Christmas is the time of year That we become a...   \n",
       "\n",
       "                                          filtered_lyrics  \n",
       "24002   aching room cos one tell everythings going way...  \n",
       "46011   theres mask wall wearing keep seeing im really...  \n",
       "135453  sittin home night waiting come home cry found ...  \n",
       "1621    dropped see ill stay awhile want hear youre ge...  \n",
       "87593   christmas time year become one tears joy heart...  "
      ]
     },
     "metadata": {},
     "output_type": "display_data"
    },
    {
     "name": "stdout",
     "output_type": "stream",
     "text": [
      "--- SVM Misclassification ---\n",
      "--- False Neg Results ---\n",
      "131846    1\n",
      "21115     1\n",
      "14633     1\n",
      "90017     1\n",
      "61905     1\n",
      "dtype: int8\n",
      "131846    0\n",
      "21115     0\n",
      "14633     0\n",
      "90017     0\n",
      "61905     0\n",
      "dtype: int8\n"
     ]
    },
    {
     "data": {
      "text/html": [
       "<div>\n",
       "<style scoped>\n",
       "    .dataframe tbody tr th:only-of-type {\n",
       "        vertical-align: middle;\n",
       "    }\n",
       "\n",
       "    .dataframe tbody tr th {\n",
       "        vertical-align: top;\n",
       "    }\n",
       "\n",
       "    .dataframe thead th {\n",
       "        text-align: right;\n",
       "    }\n",
       "</style>\n",
       "<table border=\"1\" class=\"dataframe\">\n",
       "  <thead>\n",
       "    <tr style=\"text-align: right;\">\n",
       "      <th></th>\n",
       "      <th>song</th>\n",
       "      <th>year</th>\n",
       "      <th>artist</th>\n",
       "      <th>genre</th>\n",
       "      <th>lyrics</th>\n",
       "      <th>filtered_lyrics</th>\n",
       "    </tr>\n",
       "  </thead>\n",
       "  <tbody>\n",
       "    <tr>\n",
       "      <th>131846</th>\n",
       "      <td>maybe then someday</td>\n",
       "      <td>2005-01-01</td>\n",
       "      <td>abandoned pools</td>\n",
       "      <td>Rock</td>\n",
       "      <td>What's this thing that's haunting me Won't my ...</td>\n",
       "      <td>whats thing thats haunting wont mind let sober...</td>\n",
       "    </tr>\n",
       "    <tr>\n",
       "      <th>21115</th>\n",
       "      <td>daughter of light</td>\n",
       "      <td>2007-01-01</td>\n",
       "      <td>carole king</td>\n",
       "      <td>Rock</td>\n",
       "      <td>Daughter of light You're a welcome sight To a ...</td>\n",
       "      <td>daughter light youre welcome sight weary soul ...</td>\n",
       "    </tr>\n",
       "    <tr>\n",
       "      <th>14633</th>\n",
       "      <td>baby don t you lie to me</td>\n",
       "      <td>2015-01-01</td>\n",
       "      <td>fratellis</td>\n",
       "      <td>Rock</td>\n",
       "      <td>Well little girl you can roll your eyes At the...</td>\n",
       "      <td>well little girl roll eyes sight everything sp...</td>\n",
       "    </tr>\n",
       "    <tr>\n",
       "      <th>90017</th>\n",
       "      <td>ideology</td>\n",
       "      <td>2014-01-01</td>\n",
       "      <td>billy bragg</td>\n",
       "      <td>Rock</td>\n",
       "      <td>When one voice rules the nation Just because t...</td>\n",
       "      <td>one voice rules nation theyre top pile doesnt ...</td>\n",
       "    </tr>\n",
       "    <tr>\n",
       "      <th>61905</th>\n",
       "      <td>sorry</td>\n",
       "      <td>2007-01-01</td>\n",
       "      <td>daughtry</td>\n",
       "      <td>Rock</td>\n",
       "      <td>Will you listen to my story? It just be a minu...</td>\n",
       "      <td>listen story minute explain whatever happened ...</td>\n",
       "    </tr>\n",
       "  </tbody>\n",
       "</table>\n",
       "</div>"
      ],
      "text/plain": [
       "                            song        year           artist genre  \\\n",
       "131846        maybe then someday  2005-01-01  abandoned pools  Rock   \n",
       "21115          daughter of light  2007-01-01      carole king  Rock   \n",
       "14633   baby don t you lie to me  2015-01-01        fratellis  Rock   \n",
       "90017                   ideology  2014-01-01      billy bragg  Rock   \n",
       "61905                      sorry  2007-01-01         daughtry  Rock   \n",
       "\n",
       "                                                   lyrics  \\\n",
       "131846  What's this thing that's haunting me Won't my ...   \n",
       "21115   Daughter of light You're a welcome sight To a ...   \n",
       "14633   Well little girl you can roll your eyes At the...   \n",
       "90017   When one voice rules the nation Just because t...   \n",
       "61905   Will you listen to my story? It just be a minu...   \n",
       "\n",
       "                                          filtered_lyrics  \n",
       "131846  whats thing thats haunting wont mind let sober...  \n",
       "21115   daughter light youre welcome sight weary soul ...  \n",
       "14633   well little girl roll eyes sight everything sp...  \n",
       "90017   one voice rules nation theyre top pile doesnt ...  \n",
       "61905   listen story minute explain whatever happened ...  "
      ]
     },
     "metadata": {},
     "output_type": "display_data"
    },
    {
     "name": "stdout",
     "output_type": "stream",
     "text": [
      "--- False Pos Results ---\n",
      "169862    0\n",
      "196460    0\n",
      "168066    0\n",
      "178700    0\n",
      "194214    0\n",
      "dtype: int8\n",
      "169862    1\n",
      "196460    1\n",
      "168066    1\n",
      "178700    1\n",
      "194214    1\n",
      "dtype: int8\n"
     ]
    },
    {
     "data": {
      "text/html": [
       "<div>\n",
       "<style scoped>\n",
       "    .dataframe tbody tr th:only-of-type {\n",
       "        vertical-align: middle;\n",
       "    }\n",
       "\n",
       "    .dataframe tbody tr th {\n",
       "        vertical-align: top;\n",
       "    }\n",
       "\n",
       "    .dataframe thead th {\n",
       "        text-align: right;\n",
       "    }\n",
       "</style>\n",
       "<table border=\"1\" class=\"dataframe\">\n",
       "  <thead>\n",
       "    <tr style=\"text-align: right;\">\n",
       "      <th></th>\n",
       "      <th>song</th>\n",
       "      <th>year</th>\n",
       "      <th>artist</th>\n",
       "      <th>genre</th>\n",
       "      <th>lyrics</th>\n",
       "      <th>filtered_lyrics</th>\n",
       "    </tr>\n",
       "  </thead>\n",
       "  <tbody>\n",
       "    <tr>\n",
       "      <th>169862</th>\n",
       "      <td>in danger</td>\n",
       "      <td>2010-01-01</td>\n",
       "      <td>aaron fresh</td>\n",
       "      <td>Pop</td>\n",
       "      <td>Ohh Noo Noo, No ( Verse 1 ) He Told You Lies F...</td>\n",
       "      <td>ohh noo noo  verse   told lies long everyone s...</td>\n",
       "    </tr>\n",
       "    <tr>\n",
       "      <th>196460</th>\n",
       "      <td>brave face</td>\n",
       "      <td>2007-01-01</td>\n",
       "      <td>delta goodrem</td>\n",
       "      <td>Pop</td>\n",
       "      <td>Put your brave face on The one you wore when y...</td>\n",
       "      <td>put brave face one wore stole heart wont hold ...</td>\n",
       "    </tr>\n",
       "    <tr>\n",
       "      <th>168066</th>\n",
       "      <td>she works hard for the money</td>\n",
       "      <td>2012-01-01</td>\n",
       "      <td>american idol</td>\n",
       "      <td>Pop</td>\n",
       "      <td>She works hard for the money So hard for it ho...</td>\n",
       "      <td>works hard money hard honey works hard money b...</td>\n",
       "    </tr>\n",
       "    <tr>\n",
       "      <th>178700</th>\n",
       "      <td>tender love</td>\n",
       "      <td>2015-01-01</td>\n",
       "      <td>exo</td>\n",
       "      <td>Pop</td>\n",
       "      <td>English Translation: Come to the inner side of...</td>\n",
       "      <td>english translation come inner side sidewalk i...</td>\n",
       "    </tr>\n",
       "    <tr>\n",
       "      <th>194214</th>\n",
       "      <td>have fun</td>\n",
       "      <td>2006-01-01</td>\n",
       "      <td>diana ross</td>\n",
       "      <td>Pop</td>\n",
       "      <td>Hey, everybody Have fun again I want you to ha...</td>\n",
       "      <td>hey everybody fun want fun fun want fun like l...</td>\n",
       "    </tr>\n",
       "  </tbody>\n",
       "</table>\n",
       "</div>"
      ],
      "text/plain": [
       "                                song        year         artist genre  \\\n",
       "169862                     in danger  2010-01-01    aaron fresh   Pop   \n",
       "196460                    brave face  2007-01-01  delta goodrem   Pop   \n",
       "168066  she works hard for the money  2012-01-01  american idol   Pop   \n",
       "178700                   tender love  2015-01-01            exo   Pop   \n",
       "194214                      have fun  2006-01-01     diana ross   Pop   \n",
       "\n",
       "                                                   lyrics  \\\n",
       "169862  Ohh Noo Noo, No ( Verse 1 ) He Told You Lies F...   \n",
       "196460  Put your brave face on The one you wore when y...   \n",
       "168066  She works hard for the money So hard for it ho...   \n",
       "178700  English Translation: Come to the inner side of...   \n",
       "194214  Hey, everybody Have fun again I want you to ha...   \n",
       "\n",
       "                                          filtered_lyrics  \n",
       "169862  ohh noo noo  verse   told lies long everyone s...  \n",
       "196460  put brave face one wore stole heart wont hold ...  \n",
       "168066  works hard money hard honey works hard money b...  \n",
       "178700  english translation come inner side sidewalk i...  \n",
       "194214  hey everybody fun want fun fun want fun like l...  "
      ]
     },
     "metadata": {},
     "output_type": "display_data"
    }
   ],
   "source": [
    "run_model(tfidf_df_100)"
   ]
  },
  {
   "cell_type": "code",
   "execution_count": 81,
   "metadata": {},
   "outputs": [
    {
     "data": {
      "text/plain": [
       "song                                              maybe then someday\n",
       "year                                                      2005-01-01\n",
       "artist                                               abandoned pools\n",
       "genre                                                           Rock\n",
       "lyrics             What's this thing that's haunting me Won't my ...\n",
       "filtered_lyrics    whats thing thats haunting wont mind let sober...\n",
       "Name: 131846, dtype: object"
      ]
     },
     "metadata": {},
     "output_type": "display_data"
    }
   ],
   "source": [
    "display(rock_pop_dataset.loc[131846])"
   ]
  },
  {
   "cell_type": "code",
   "execution_count": null,
   "metadata": {},
   "outputs": [],
   "source": [
    "run_model(tfidf_df_200)"
   ]
  },
  {
   "cell_type": "code",
   "execution_count": 44,
   "metadata": {},
   "outputs": [
    {
     "name": "stdout",
     "output_type": "stream",
     "text": [
      "\n",
      "Confusion Matrix : NB\n",
      "[[    3  6152]\n",
      " [    0 18954]]\n",
      "\n",
      "*******************************\n",
      "\n",
      "Classification Report : NB\n",
      "              precision    recall  f1-score   support\n",
      "\n",
      "           0       1.00      0.00      0.00      6155\n",
      "           1       0.75      1.00      0.86     18954\n",
      "\n",
      "    accuracy                           0.75     25109\n",
      "   macro avg       0.88      0.50      0.43     25109\n",
      "weighted avg       0.82      0.75      0.65     25109\n",
      "\n",
      "\n",
      "Confusion Matrix : RF\n",
      "[[    0  6155]\n",
      " [    0 18954]]\n",
      "\n",
      "*******************************\n",
      "\n",
      "Classification Report : RF\n",
      "              precision    recall  f1-score   support\n",
      "\n",
      "           0       0.00      0.00      0.00      6155\n",
      "           1       0.75      1.00      0.86     18954\n",
      "\n",
      "    accuracy                           0.75     25109\n",
      "   macro avg       0.38      0.50      0.43     25109\n",
      "weighted avg       0.57      0.75      0.65     25109\n",
      "\n",
      "\n",
      "Confusion Matrix : SVM\n",
      "[[ 3189  2966]\n",
      " [ 4460 14494]]\n",
      "\n",
      "*******************************\n",
      "\n",
      "Classification Report : SVM\n",
      "              precision    recall  f1-score   support\n",
      "\n",
      "           0       0.42      0.52      0.46      6155\n",
      "           1       0.83      0.76      0.80     18954\n",
      "\n",
      "    accuracy                           0.70     25109\n",
      "   macro avg       0.62      0.64      0.63     25109\n",
      "weighted avg       0.73      0.70      0.71     25109\n",
      "\n"
     ]
    }
   ],
   "source": [
    "run_model(tfidf_df_500)"
   ]
  },
  {
   "cell_type": "markdown",
   "metadata": {},
   "source": [
    "### Analysing Information Gain Models"
   ]
  },
  {
   "cell_type": "code",
   "execution_count": null,
   "metadata": {},
   "outputs": [
    {
     "name": "stdout",
     "output_type": "stream",
     "text": [
      "--- Naive Bayes Misclassification ---\n",
      "--- False Neg Results ---\n",
      "21115    1\n",
      "14633    1\n",
      "42768    1\n",
      "5054     1\n",
      "30473    1\n",
      "dtype: int8\n",
      "21115    0\n",
      "14633    0\n",
      "42768    0\n",
      "5054     0\n",
      "30473    0\n",
      "dtype: int8\n"
     ]
    },
    {
     "data": {
      "text/html": [
       "<div>\n",
       "<style scoped>\n",
       "    .dataframe tbody tr th:only-of-type {\n",
       "        vertical-align: middle;\n",
       "    }\n",
       "\n",
       "    .dataframe tbody tr th {\n",
       "        vertical-align: top;\n",
       "    }\n",
       "\n",
       "    .dataframe thead th {\n",
       "        text-align: right;\n",
       "    }\n",
       "</style>\n",
       "<table border=\"1\" class=\"dataframe\">\n",
       "  <thead>\n",
       "    <tr style=\"text-align: right;\">\n",
       "      <th></th>\n",
       "      <th>song</th>\n",
       "      <th>year</th>\n",
       "      <th>artist</th>\n",
       "      <th>genre</th>\n",
       "      <th>lyrics</th>\n",
       "      <th>filtered_lyrics</th>\n",
       "    </tr>\n",
       "  </thead>\n",
       "  <tbody>\n",
       "    <tr>\n",
       "      <th>21115</th>\n",
       "      <td>daughter of light</td>\n",
       "      <td>2007-01-01</td>\n",
       "      <td>carole king</td>\n",
       "      <td>Rock</td>\n",
       "      <td>Daughter of light You're a welcome sight To a ...</td>\n",
       "      <td>daughter light youre welcome sight weary soul ...</td>\n",
       "    </tr>\n",
       "    <tr>\n",
       "      <th>14633</th>\n",
       "      <td>baby don t you lie to me</td>\n",
       "      <td>2015-01-01</td>\n",
       "      <td>fratellis</td>\n",
       "      <td>Rock</td>\n",
       "      <td>Well little girl you can roll your eyes At the...</td>\n",
       "      <td>well little girl roll eyes sight everything sp...</td>\n",
       "    </tr>\n",
       "    <tr>\n",
       "      <th>42768</th>\n",
       "      <td>skin for scars</td>\n",
       "      <td>2007-01-01</td>\n",
       "      <td>cauterize</td>\n",
       "      <td>Rock</td>\n",
       "      <td>Tie these hands they shake too much To hold yo...</td>\n",
       "      <td>tie hands shake much hold hold wandering eyes ...</td>\n",
       "    </tr>\n",
       "    <tr>\n",
       "      <th>5054</th>\n",
       "      <td>don t say a word</td>\n",
       "      <td>2003-01-01</td>\n",
       "      <td>crooked fingers</td>\n",
       "      <td>Rock</td>\n",
       "      <td>Don't say a word. Don't tell me what you heard...</td>\n",
       "      <td>dont say word dont tell heard theres something...</td>\n",
       "    </tr>\n",
       "    <tr>\n",
       "      <th>30473</th>\n",
       "      <td>new day rising</td>\n",
       "      <td>2011-01-01</td>\n",
       "      <td>the answer</td>\n",
       "      <td>Rock</td>\n",
       "      <td>[Verse 1] All around the sky? s are falling do...</td>\n",
       "      <td>verse  around sky falling new kind sound smile...</td>\n",
       "    </tr>\n",
       "  </tbody>\n",
       "</table>\n",
       "</div>"
      ],
      "text/plain": [
       "                           song        year           artist genre  \\\n",
       "21115         daughter of light  2007-01-01      carole king  Rock   \n",
       "14633  baby don t you lie to me  2015-01-01        fratellis  Rock   \n",
       "42768            skin for scars  2007-01-01        cauterize  Rock   \n",
       "5054           don t say a word  2003-01-01  crooked fingers  Rock   \n",
       "30473            new day rising  2011-01-01       the answer  Rock   \n",
       "\n",
       "                                                  lyrics  \\\n",
       "21115  Daughter of light You're a welcome sight To a ...   \n",
       "14633  Well little girl you can roll your eyes At the...   \n",
       "42768  Tie these hands they shake too much To hold yo...   \n",
       "5054   Don't say a word. Don't tell me what you heard...   \n",
       "30473  [Verse 1] All around the sky? s are falling do...   \n",
       "\n",
       "                                         filtered_lyrics  \n",
       "21115  daughter light youre welcome sight weary soul ...  \n",
       "14633  well little girl roll eyes sight everything sp...  \n",
       "42768  tie hands shake much hold hold wandering eyes ...  \n",
       "5054   dont say word dont tell heard theres something...  \n",
       "30473  verse  around sky falling new kind sound smile...  "
      ]
     },
     "metadata": {},
     "output_type": "display_data"
    },
    {
     "name": "stdout",
     "output_type": "stream",
     "text": [
      "--- False Pos Results ---\n",
      "135453    0\n",
      "126282    0\n",
      "196460    0\n",
      "140363    0\n",
      "155999    0\n",
      "dtype: int8\n",
      "135453    1\n",
      "126282    1\n",
      "196460    1\n",
      "140363    1\n",
      "155999    1\n",
      "dtype: int8\n"
     ]
    },
    {
     "data": {
      "text/html": [
       "<div>\n",
       "<style scoped>\n",
       "    .dataframe tbody tr th:only-of-type {\n",
       "        vertical-align: middle;\n",
       "    }\n",
       "\n",
       "    .dataframe tbody tr th {\n",
       "        vertical-align: top;\n",
       "    }\n",
       "\n",
       "    .dataframe thead th {\n",
       "        text-align: right;\n",
       "    }\n",
       "</style>\n",
       "<table border=\"1\" class=\"dataframe\">\n",
       "  <thead>\n",
       "    <tr style=\"text-align: right;\">\n",
       "      <th></th>\n",
       "      <th>song</th>\n",
       "      <th>year</th>\n",
       "      <th>artist</th>\n",
       "      <th>genre</th>\n",
       "      <th>lyrics</th>\n",
       "      <th>filtered_lyrics</th>\n",
       "    </tr>\n",
       "  </thead>\n",
       "  <tbody>\n",
       "    <tr>\n",
       "      <th>135453</th>\n",
       "      <td>wow</td>\n",
       "      <td>2006-01-01</td>\n",
       "      <td>brandy</td>\n",
       "      <td>Pop</td>\n",
       "      <td>No more sittin' at home at night Waiting for y...</td>\n",
       "      <td>sittin home night waiting come home cry found ...</td>\n",
       "    </tr>\n",
       "    <tr>\n",
       "      <th>126282</th>\n",
       "      <td>beautiful</td>\n",
       "      <td>2014-01-01</td>\n",
       "      <td>enrique iglesias</td>\n",
       "      <td>Pop</td>\n",
       "      <td>You, you are so beautiful It used to be, you a...</td>\n",
       "      <td>beautiful used love like world around could fa...</td>\n",
       "    </tr>\n",
       "    <tr>\n",
       "      <th>196460</th>\n",
       "      <td>brave face</td>\n",
       "      <td>2007-01-01</td>\n",
       "      <td>delta goodrem</td>\n",
       "      <td>Pop</td>\n",
       "      <td>Put your brave face on The one you wore when y...</td>\n",
       "      <td>put brave face one wore stole heart wont hold ...</td>\n",
       "    </tr>\n",
       "    <tr>\n",
       "      <th>140363</th>\n",
       "      <td>why oh why</td>\n",
       "      <td>2006-01-01</td>\n",
       "      <td>atc</td>\n",
       "      <td>Pop</td>\n",
       "      <td>Do da n de da n dai (Do da n de da n dai) It's...</td>\n",
       "      <td>da n de da n dai da n de da n dai feeling got ...</td>\n",
       "    </tr>\n",
       "    <tr>\n",
       "      <th>155999</th>\n",
       "      <td>la hallucinations</td>\n",
       "      <td>2015-01-01</td>\n",
       "      <td>carly rae jepsen</td>\n",
       "      <td>Pop</td>\n",
       "      <td>I remember being naked We were young freaks ju...</td>\n",
       "      <td>remember naked young freaks fresh la never car...</td>\n",
       "    </tr>\n",
       "  </tbody>\n",
       "</table>\n",
       "</div>"
      ],
      "text/plain": [
       "                     song        year            artist genre  \\\n",
       "135453                wow  2006-01-01            brandy   Pop   \n",
       "126282          beautiful  2014-01-01  enrique iglesias   Pop   \n",
       "196460         brave face  2007-01-01     delta goodrem   Pop   \n",
       "140363         why oh why  2006-01-01               atc   Pop   \n",
       "155999  la hallucinations  2015-01-01  carly rae jepsen   Pop   \n",
       "\n",
       "                                                   lyrics  \\\n",
       "135453  No more sittin' at home at night Waiting for y...   \n",
       "126282  You, you are so beautiful It used to be, you a...   \n",
       "196460  Put your brave face on The one you wore when y...   \n",
       "140363  Do da n de da n dai (Do da n de da n dai) It's...   \n",
       "155999  I remember being naked We were young freaks ju...   \n",
       "\n",
       "                                          filtered_lyrics  \n",
       "135453  sittin home night waiting come home cry found ...  \n",
       "126282  beautiful used love like world around could fa...  \n",
       "196460  put brave face one wore stole heart wont hold ...  \n",
       "140363  da n de da n dai da n de da n dai feeling got ...  \n",
       "155999  remember naked young freaks fresh la never car...  "
      ]
     },
     "metadata": {},
     "output_type": "display_data"
    },
    {
     "name": "stdout",
     "output_type": "stream",
     "text": [
      "--- Random Forest Misclassification ---\n",
      "--- False Pos Results ---\n",
      "24002     0\n",
      "46011     0\n",
      "135453    0\n",
      "1621      0\n",
      "87593     0\n",
      "dtype: int8\n",
      "24002     1\n",
      "46011     1\n",
      "135453    1\n",
      "1621      1\n",
      "87593     1\n",
      "dtype: int8\n"
     ]
    },
    {
     "data": {
      "text/html": [
       "<div>\n",
       "<style scoped>\n",
       "    .dataframe tbody tr th:only-of-type {\n",
       "        vertical-align: middle;\n",
       "    }\n",
       "\n",
       "    .dataframe tbody tr th {\n",
       "        vertical-align: top;\n",
       "    }\n",
       "\n",
       "    .dataframe thead th {\n",
       "        text-align: right;\n",
       "    }\n",
       "</style>\n",
       "<table border=\"1\" class=\"dataframe\">\n",
       "  <thead>\n",
       "    <tr style=\"text-align: right;\">\n",
       "      <th></th>\n",
       "      <th>song</th>\n",
       "      <th>year</th>\n",
       "      <th>artist</th>\n",
       "      <th>genre</th>\n",
       "      <th>lyrics</th>\n",
       "      <th>filtered_lyrics</th>\n",
       "    </tr>\n",
       "  </thead>\n",
       "  <tbody>\n",
       "    <tr>\n",
       "      <th>24002</th>\n",
       "      <td>henry</td>\n",
       "      <td>2010-01-01</td>\n",
       "      <td>emma dean</td>\n",
       "      <td>Pop</td>\n",
       "      <td>Aching to be in the room 'cos no one can tell ...</td>\n",
       "      <td>aching room cos one tell everythings going way...</td>\n",
       "    </tr>\n",
       "    <tr>\n",
       "      <th>46011</th>\n",
       "      <td>i need a disguise</td>\n",
       "      <td>2014-01-01</td>\n",
       "      <td>belinda carlisle</td>\n",
       "      <td>Pop</td>\n",
       "      <td>There's a mask on the wall That I should be we...</td>\n",
       "      <td>theres mask wall wearing keep seeing im really...</td>\n",
       "    </tr>\n",
       "    <tr>\n",
       "      <th>135453</th>\n",
       "      <td>wow</td>\n",
       "      <td>2006-01-01</td>\n",
       "      <td>brandy</td>\n",
       "      <td>Pop</td>\n",
       "      <td>No more sittin' at home at night Waiting for y...</td>\n",
       "      <td>sittin home night waiting come home cry found ...</td>\n",
       "    </tr>\n",
       "    <tr>\n",
       "      <th>1621</th>\n",
       "      <td>the homes of donegal</td>\n",
       "      <td>2009-01-01</td>\n",
       "      <td>celtic thunder</td>\n",
       "      <td>Pop</td>\n",
       "      <td>I just dropped in to see you all I'll only sta...</td>\n",
       "      <td>dropped see ill stay awhile want hear youre ge...</td>\n",
       "    </tr>\n",
       "    <tr>\n",
       "      <th>87593</th>\n",
       "      <td>time of year</td>\n",
       "      <td>2006-01-01</td>\n",
       "      <td>ashanti</td>\n",
       "      <td>Pop</td>\n",
       "      <td>Christmas is the time of year That we become a...</td>\n",
       "      <td>christmas time year become one tears joy heart...</td>\n",
       "    </tr>\n",
       "  </tbody>\n",
       "</table>\n",
       "</div>"
      ],
      "text/plain": [
       "                        song        year            artist genre  \\\n",
       "24002                  henry  2010-01-01         emma dean   Pop   \n",
       "46011      i need a disguise  2014-01-01  belinda carlisle   Pop   \n",
       "135453                   wow  2006-01-01            brandy   Pop   \n",
       "1621    the homes of donegal  2009-01-01    celtic thunder   Pop   \n",
       "87593           time of year  2006-01-01           ashanti   Pop   \n",
       "\n",
       "                                                   lyrics  \\\n",
       "24002   Aching to be in the room 'cos no one can tell ...   \n",
       "46011   There's a mask on the wall That I should be we...   \n",
       "135453  No more sittin' at home at night Waiting for y...   \n",
       "1621    I just dropped in to see you all I'll only sta...   \n",
       "87593   Christmas is the time of year That we become a...   \n",
       "\n",
       "                                          filtered_lyrics  \n",
       "24002   aching room cos one tell everythings going way...  \n",
       "46011   theres mask wall wearing keep seeing im really...  \n",
       "135453  sittin home night waiting come home cry found ...  \n",
       "1621    dropped see ill stay awhile want hear youre ge...  \n",
       "87593   christmas time year become one tears joy heart...  "
      ]
     },
     "metadata": {},
     "output_type": "display_data"
    }
   ],
   "source": [
    "run_model(ig_100)"
   ]
  },
  {
   "cell_type": "code",
   "execution_count": null,
   "metadata": {},
   "outputs": [],
   "source": [
    "# rock_pop_dataset.iloc[126282]"
   ]
  },
  {
   "cell_type": "code",
   "execution_count": 35,
   "metadata": {},
   "outputs": [
    {
     "name": "stdout",
     "output_type": "stream",
     "text": [
      "\n",
      "Confusion Matrix : NB\n",
      "[[ 2267  3888]\n",
      " [ 2603 16351]]\n",
      "\n",
      "*******************************\n",
      "\n",
      "Classification Report : NB\n",
      "              precision    recall  f1-score   support\n",
      "\n",
      "           0       0.47      0.37      0.41      6155\n",
      "           1       0.81      0.86      0.83     18954\n",
      "\n",
      "    accuracy                           0.74     25109\n",
      "   macro avg       0.64      0.62      0.62     25109\n",
      "weighted avg       0.72      0.74      0.73     25109\n",
      "\n",
      "\n",
      "Confusion Matrix : RF\n",
      "[[    0  6155]\n",
      " [    0 18954]]\n",
      "\n",
      "*******************************\n",
      "\n",
      "Classification Report : RF\n",
      "              precision    recall  f1-score   support\n",
      "\n",
      "           0       0.00      0.00      0.00      6155\n",
      "           1       0.75      1.00      0.86     18954\n",
      "\n",
      "    accuracy                           0.75     25109\n",
      "   macro avg       0.38      0.50      0.43     25109\n",
      "weighted avg       0.57      0.75      0.65     25109\n",
      "\n",
      "\n",
      "Confusion Matrix : SVM\n",
      "[[ 3147  3008]\n",
      " [ 3680 15274]]\n",
      "\n",
      "*******************************\n",
      "\n",
      "Classification Report : SVM\n",
      "              precision    recall  f1-score   support\n",
      "\n",
      "           0       0.46      0.51      0.48      6155\n",
      "           1       0.84      0.81      0.82     18954\n",
      "\n",
      "    accuracy                           0.73     25109\n",
      "   macro avg       0.65      0.66      0.65     25109\n",
      "weighted avg       0.74      0.73      0.74     25109\n",
      "\n"
     ]
    }
   ],
   "source": [
    "run_model(ig_200)"
   ]
  },
  {
   "cell_type": "code",
   "execution_count": 33,
   "metadata": {},
   "outputs": [
    {
     "name": "stdout",
     "output_type": "stream",
     "text": [
      "\n",
      "Confusion Matrix : NB\n",
      "[[ 2740  3415]\n",
      " [ 2948 16006]]\n",
      "\n",
      "*******************************\n",
      "\n",
      "Classification Report : NB\n",
      "              precision    recall  f1-score   support\n",
      "\n",
      "           0       0.48      0.45      0.46      6155\n",
      "           1       0.82      0.84      0.83     18954\n",
      "\n",
      "    accuracy                           0.75     25109\n",
      "   macro avg       0.65      0.64      0.65     25109\n",
      "weighted avg       0.74      0.75      0.74     25109\n",
      "\n",
      "\n",
      "Confusion Matrix : RF\n",
      "[[    0  6155]\n",
      " [    0 18954]]\n",
      "\n",
      "*******************************\n",
      "\n",
      "Classification Report : RF\n",
      "              precision    recall  f1-score   support\n",
      "\n",
      "           0       0.00      0.00      0.00      6155\n",
      "           1       0.75      1.00      0.86     18954\n",
      "\n",
      "    accuracy                           0.75     25109\n",
      "   macro avg       0.38      0.50      0.43     25109\n",
      "weighted avg       0.57      0.75      0.65     25109\n",
      "\n",
      "\n",
      "Confusion Matrix : SVM\n",
      "[[ 3257  2898]\n",
      " [ 3815 15139]]\n",
      "\n",
      "*******************************\n",
      "\n",
      "Classification Report : SVM\n",
      "              precision    recall  f1-score   support\n",
      "\n",
      "           0       0.46      0.53      0.49      6155\n",
      "           1       0.84      0.80      0.82     18954\n",
      "\n",
      "    accuracy                           0.73     25109\n",
      "   macro avg       0.65      0.66      0.66     25109\n",
      "weighted avg       0.75      0.73      0.74     25109\n",
      "\n"
     ]
    }
   ],
   "source": [
    "run_model(ig_500)"
   ]
  },
  {
   "cell_type": "code",
   "execution_count": null,
   "metadata": {},
   "outputs": [],
   "source": []
  }
 ],
 "metadata": {
  "kernelspec": {
   "display_name": "Python 3 (ipykernel)",
   "language": "python",
   "name": "python3"
  },
  "language_info": {
   "codemirror_mode": {
    "name": "ipython",
    "version": 3
   },
   "file_extension": ".py",
   "mimetype": "text/x-python",
   "name": "python",
   "nbconvert_exporter": "python",
   "pygments_lexer": "ipython3",
   "version": "3.7.4"
  }
 },
 "nbformat": 4,
 "nbformat_minor": 4
}
