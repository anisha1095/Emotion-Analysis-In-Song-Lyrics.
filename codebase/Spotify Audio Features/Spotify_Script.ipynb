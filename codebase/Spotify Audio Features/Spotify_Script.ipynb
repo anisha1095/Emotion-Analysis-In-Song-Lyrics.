{
 "cells": [
  {
   "cell_type": "code",
   "execution_count": 9,
   "metadata": {},
   "outputs": [],
   "source": [
    "import spotipy\n",
    "from spotipy.oauth2 import SpotifyClientCredentials\n",
    "\n",
    "def getCredentials():\n",
    "# Make your own Spotify app at https://beta.developer.spotify.com/dashboard/applications\n",
    "    client_id = 'deafc37e550a420e9ba7c6784dadd329'\n",
    "    client_secret = '56140b49b2c24fbb8f2b41146d4326b0'\n",
    "    client_credentials_manager = SpotifyClientCredentials(client_id=client_id, client_secret=client_secret)\n",
    "    sp = spotipy.Spotify(client_credentials_manager=client_credentials_manager)\n",
    "    sp.trace=False\n",
    "    return sp\n",
    "\n",
    "def getFeatures(title, artist):\n",
    "    sp = getCredentials()\n",
    "    search_querry = title + ' ' + artist\n",
    "    result = sp.search(search_querry)\n",
    "    for i in result['tracks']['items']:\n",
    "        # Find a songh that matches title and artist\n",
    "        if (i['artists'][0]['name'] == artist) and (i['name'] == title):\n",
    "            features = sp.audio_features(i['uri'])\n",
    "            return features\n",
    "    else:\n",
    "        try:\n",
    "            # Just take the first song returned by the search (might be named differently)\n",
    "            features = sp.audio_features((result['tracks']['items'][0]['uri']))\n",
    "            return features\n",
    "        except Exception as e:\n",
    "            # No results for artist and title\n",
    "            print (\"Cannot Find URI\", result)\n",
    "            return None"
   ]
  },
  {
   "cell_type": "code",
   "execution_count": 10,
   "metadata": {},
   "outputs": [],
   "source": [
    "# title = 'Clocks'\n",
    "# artist = 'Coldplay'\n",
    "# getFeatures(title, artist)\n",
    "\n",
    "# features = sp.audio_features(\"spotify:track:0BCPKOYdS2jbQ8iyB56Zns\")\n",
    "# print(features)"
   ]
  },
  {
   "cell_type": "code",
   "execution_count": null,
   "metadata": {},
   "outputs": [],
   "source": []
  }
 ],
 "metadata": {
  "kernelspec": {
   "display_name": "Python 3 (ipykernel)",
   "language": "python",
   "name": "python3"
  },
  "language_info": {
   "codemirror_mode": {
    "name": "ipython",
    "version": 3
   },
   "file_extension": ".py",
   "mimetype": "text/x-python",
   "name": "python",
   "nbconvert_exporter": "python",
   "pygments_lexer": "ipython3",
   "version": "3.7.4"
  }
 },
 "nbformat": 4,
 "nbformat_minor": 4
}
