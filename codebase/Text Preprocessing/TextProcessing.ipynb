{
 "cells": [
  {
   "cell_type": "code",
   "execution_count": 4,
   "metadata": {},
   "outputs": [
    {
     "name": "stderr",
     "output_type": "stream",
     "text": [
      "[nltk_data] Downloading package stopwords to\n",
      "[nltk_data]     /Users/anishajauhari/nltk_data...\n",
      "[nltk_data]   Package stopwords is already up-to-date!\n",
      "[nltk_data] Downloading package words to\n",
      "[nltk_data]     /Users/anishajauhari/nltk_data...\n",
      "[nltk_data]   Package words is already up-to-date!\n"
     ]
    }
   ],
   "source": [
    "import pandas as pd\n",
    "import numpy as np\n",
    "import string\n",
    "import warnings\n",
    "import math\n",
    "import nltk\n",
    "import json\n",
    "from langdetect import detect\n",
    "from libsvm import *\n",
    "from nltk.stem import PorterStemmer\n",
    "from sklearn.feature_selection import mutual_info_classif\n",
    "from sklearn.feature_extraction.text import CountVectorizer\n",
    "from sklearn.svm import SVC\n",
    "from nltk.corpus import stopwords\n",
    "from sklearn.feature_extraction.text import TfidfVectorizer\n",
    "from sklearn.multiclass import OneVsRestClassifier\n",
    "from sklearn.naive_bayes import MultinomialNB\n",
    "from sklearn.ensemble import BaggingClassifier\n",
    "from sklearn.model_selection import RandomizedSearchCV\n",
    "from IPython.display import display\n",
    "\n",
    "from scipy.sparse import csr_matrix\n",
    "from sklearn.ensemble import RandomForestClassifier\n",
    "from sklearn.model_selection import train_test_split\n",
    "from sklearn.metrics import confusion_matrix\n",
    "from sklearn.metrics import classification_report\n",
    "from sklearn import svm\n",
    "import dask.dataframe as dd\n",
    "import multiprocessing\n",
    "import swifter\n",
    "warnings.filterwarnings('ignore')\n",
    "nltk.download('stopwords')\n",
    "nltk.download('words')\n",
    "from spellchecker import SpellChecker\n",
    "\n",
    "spell = SpellChecker()\n",
    "\n",
    "# pd.set_option('display.max_colwidth', None)"
   ]
  },
  {
   "cell_type": "code",
   "execution_count": 5,
   "metadata": {},
   "outputs": [],
   "source": [
    "# pip install pyspellchecker"
   ]
  },
  {
   "cell_type": "code",
   "execution_count": 6,
   "metadata": {},
   "outputs": [],
   "source": [
    "## Dataset Purification"
   ]
  },
  {
   "cell_type": "code",
   "execution_count": 7,
   "metadata": {},
   "outputs": [],
   "source": [
    "# dataset = pd.read_csv(\"../../data/dataset_2.csv\")\n",
    "# drop_index = []\n",
    "# for index, row in dataset.iterrows():\n",
    "#     try:\n",
    "#         if detect(row[\"lyrics\"]) == \"en\":\n",
    "#             continue\n",
    "#         else:\n",
    "#             drop_index.append(index)\n",
    "#     except Exception as e:\n",
    "#         pass\n",
    "# dataset = dataset.drop(drop_index)\n",
    "# dataset = dataset.loc[dataset[\"genre\"]!=\"Not Available\"]\n",
    "# dataset[\"genre\"].value_counts()"
   ]
  },
  {
   "cell_type": "code",
   "execution_count": 8,
   "metadata": {},
   "outputs": [],
   "source": [
    "dataset = pd.read_csv(\"../../data/filtered_dataset.csv\")"
   ]
  },
  {
   "cell_type": "code",
   "execution_count": 9,
   "metadata": {},
   "outputs": [],
   "source": [
    "dataset[\"song\"] = dataset[\"song\"].apply(lambda x : str(x).replace(\"-\",\" \"))\n",
    "dataset[\"artist\"] = dataset[\"artist\"].apply(lambda x : str(x).replace(\"-\",\" \"))"
   ]
  },
  {
   "cell_type": "code",
   "execution_count": 10,
   "metadata": {},
   "outputs": [
    {
     "data": {
      "text/plain": [
       "Rock    94386\n",
       "Pop     31157\n",
       "Name: genre, dtype: int64"
      ]
     },
     "execution_count": 10,
     "metadata": {},
     "output_type": "execute_result"
    }
   ],
   "source": [
    "rock_pop_dataset = dataset.loc[(dataset[\"genre\"] == \"Pop\") | (dataset[\"genre\"] == \"Rock\")]\n",
    "rock_pop_dataset[\"genre\"].value_counts()\n",
    "# rock_pop_dataset.to_csv(\"rockpopdataset.csv\")"
   ]
  },
  {
   "cell_type": "markdown",
   "metadata": {},
   "source": [
    "## Exploratory Data Analysis"
   ]
  },
  {
   "cell_type": "code",
   "execution_count": 11,
   "metadata": {},
   "outputs": [
    {
     "data": {
      "text/plain": [
       "<AxesSubplot:xlabel='Genre', ylabel='No of songs'>"
      ]
     },
     "execution_count": 11,
     "metadata": {},
     "output_type": "execute_result"
    },
    {
     "data": {
      "image/png": "[encoded data removed]",
      "text/plain": [
       "<Figure size 432x288 with 1 Axes>"
      ]
     },
     "metadata": {
      "needs_background": "light"
     },
     "output_type": "display_data"
    }
   ],
   "source": [
    "dataset[\"genre\"].value_counts()\n",
    "dataset[\"genre\"].value_counts().plot(kind=\"bar\", xlabel=\"Genre\", ylabel=\"No of songs\")"
   ]
  },
  {
   "cell_type": "code",
   "execution_count": 12,
   "metadata": {},
   "outputs": [
    {
     "data": {
      "text/plain": [
       "<AxesSubplot:xlabel='Genre', ylabel='No of songs'>"
      ]
     },
     "execution_count": 12,
     "metadata": {},
     "output_type": "execute_result"
    },
    {
     "data": {
      "image/png": "[encoded data removed]",
      "text/plain": [
       "<Figure size 432x288 with 1 Axes>"
      ]
     },
     "metadata": {
      "needs_background": "light"
     },
     "output_type": "display_data"
    }
   ],
   "source": [
    "rock_pop_dataset['genre'].value_counts().plot(kind=\"bar\", xlabel=\"Genre\", ylabel=\"No of songs\")"
   ]
  },
  {
   "cell_type": "markdown",
   "metadata": {},
   "source": [
    "## Preprocessing"
   ]
  },
  {
   "cell_type": "code",
   "execution_count": 11,
   "metadata": {},
   "outputs": [],
   "source": [
    "# rock_pop_dataset[\"genre\"].value_counts()"
   ]
  },
  {
   "cell_type": "code",
   "execution_count": 12,
   "metadata": {},
   "outputs": [],
   "source": [
    "ps = PorterStemmer()\n",
    "stopwords = stopwords.words('english')\n",
    "exclist = string.punctuation + string.digits\n",
    "# remove punctuations and digits from lyrics\n",
    "table_ = str.maketrans('', '', exclist)\n",
    "rock_pop_dataset[\"filtered_lyrics\"] = rock_pop_dataset[\"lyrics\"].apply(lambda x : x.lower().translate(table_))\n",
    "# stemming the lyrics\n",
    "# rock_pop_dataset[\"filtered_lyrics\"] = rock_pop_dataset[\"filtered_lyrics\"].apply(lambda x: [ps.stem(y.lower()) for y in x.split(\" \")])\n",
    "# stopword removal \n",
    "rock_pop_dataset[\"filtered_lyrics\"] = rock_pop_dataset[\"filtered_lyrics\"].apply(lambda x : ' '.join( y for y in x.split(\" \") if y not in stopwords))"
   ]
  },
  {
   "cell_type": "code",
   "execution_count": 13,
   "metadata": {},
   "outputs": [],
   "source": [
    "# rock_pop_dataset.drop(columns = [\"Unnamed: 0\"])\n",
    "target = rock_pop_dataset[\"genre\"].astype('category').cat.codes\n",
    "target.to_csv(\"../../data/target.csv\")"
   ]
  },
  {
   "cell_type": "code",
   "execution_count": 14,
   "metadata": {},
   "outputs": [],
   "source": [
    "rock_pop_dataset.to_csv(\"../../data/rockpopdataset.csv\")"
   ]
  },
  {
   "cell_type": "code",
   "execution_count": null,
   "metadata": {},
   "outputs": [],
   "source": []
  }
 ],
 "metadata": {
  "kernelspec": {
   "display_name": "Python 3 (ipykernel)",
   "language": "python",
   "name": "python3"
  },
  "language_info": {
   "codemirror_mode": {
    "name": "ipython",
    "version": 3
   },
   "file_extension": ".py",
   "mimetype": "text/x-python",
   "name": "python",
   "nbconvert_exporter": "python",
   "pygments_lexer": "ipython3",
   "version": "3.7.4"
  }
 },
 "nbformat": 4,
 "nbformat_minor": 4
}
